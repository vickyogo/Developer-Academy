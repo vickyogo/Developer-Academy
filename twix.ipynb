{
 "cells": [
  {
   "cell_type": "code",
   "execution_count": 54,
   "metadata": {},
   "outputs": [
    {
     "name": "stdout",
     "output_type": "stream",
     "text": [
      "[7 9]\n"
     ]
    }
   ],
   "source": [
    "import numpy as np\n",
    "\n",
    "\n",
    "\n",
    "a = np.random.randint ((6, 7), 10)\n",
    "print(a)\n"
   ]
  },
  {
   "cell_type": "code",
   "execution_count": 55,
   "metadata": {},
   "outputs": [
    {
     "name": "stdout",
     "output_type": "stream",
     "text": [
      "[[5 6 3]\n",
      " [2 5 1]\n",
      " [4 4 4]]\n"
     ]
    }
   ],
   "source": [
    "b = np.array([[5,6,3], [2,5,1], [4,4,4]])\n",
    "print(b)"
   ]
  },
  {
   "cell_type": "code",
   "execution_count": 56,
   "metadata": {},
   "outputs": [
    {
     "data": {
      "text/plain": [
       "array([5, 5, 4])"
      ]
     },
     "execution_count": 56,
     "metadata": {},
     "output_type": "execute_result"
    }
   ],
   "source": [
    "np.diag(b)"
   ]
  },
  {
   "cell_type": "code",
   "execution_count": 57,
   "metadata": {},
   "outputs": [
    {
     "data": {
      "text/plain": [
       "array([3, 5, 4])"
      ]
     },
     "execution_count": 57,
     "metadata": {},
     "output_type": "execute_result"
    }
   ],
   "source": [
    "np.diag(np.fliplr(b))"
   ]
  },
  {
   "cell_type": "code",
   "execution_count": 60,
   "metadata": {},
   "outputs": [
    {
     "name": "stdout",
     "output_type": "stream",
     "text": [
      "[ 0  2  4 -5 -3  7  8 -9 -5  1]\n"
     ]
    }
   ],
   "source": [
    "arr = np.array([0, 2, 4, 5, 3, 7, 8, 9, 5, 1])\n",
    "\n",
    "\n",
    "for x in arr:\n",
    "    if arr[x] % 2 == 1:\n",
    "        arr[x] *= -1\n",
    "    else:\n",
    "        continue\n",
    "\n",
    "print(arr)\n"
   ]
  },
  {
   "cell_type": "code",
   "execution_count": 59,
   "metadata": {},
   "outputs": [
    {
     "name": "stdout",
     "output_type": "stream",
     "text": [
      "[ 0  2  4  5  3 -7  8  9  5 -1]\n"
     ]
    }
   ],
   "source": [
    "arr0 = np.array([0,2,4,5,3,7,8,9,5,1])\n",
    "odd = np.where(arr % 2 == 1)\n",
    "arr[odd] *= -1\n",
    "\n",
    "print(arr)"
   ]
  },
  {
   "cell_type": "code",
   "execution_count": null,
   "metadata": {},
   "outputs": [],
   "source": [
    "##triangle task\n",
    "\n",
    "A = np.array([0, 0])\n",
    "B = np.array([0, 3])\n",
    "C = np.array([1.5, 0])\n",
    "\n",
    "from numpy import linalg as la\n",
    "AB = la.norm(A-B)"
   ]
  }
 ],
 "metadata": {
  "language_info": {
   "name": "python"
  },
  "orig_nbformat": 4
 },
 "nbformat": 4,
 "nbformat_minor": 2
}
