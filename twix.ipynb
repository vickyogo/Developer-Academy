{
 "cells": [
  {
   "cell_type": "code",
   "execution_count": 54,
   "metadata": {},
   "outputs": [
    {
     "name": "stdout",
     "output_type": "stream",
     "text": [
      "[7 9]\n"
     ]
    }
   ],
   "source": [
    "import numpy as np\n",
    "\n",
    "\n",
    "\n",
    "a = np.random.randint ((6, 7), 10)\n",
    "print(a)\n"
   ]
  },
  {
   "cell_type": "code",
   "execution_count": 55,
   "metadata": {},
   "outputs": [
    {
     "name": "stdout",
     "output_type": "stream",
     "text": [
      "[[5 6 3]\n",
      " [2 5 1]\n",
      " [4 4 4]]\n"
     ]
    }
   ],
   "source": [
    "b = np.array([[5,6,3], [2,5,1], [4,4,4]])\n",
    "print(b)"
   ]
  },
  {
   "cell_type": "code",
   "execution_count": 56,
   "metadata": {},
   "outputs": [
    {
     "data": {
      "text/plain": [
       "array([5, 5, 4])"
      ]
     },
     "execution_count": 56,
     "metadata": {},
     "output_type": "execute_result"
    }
   ],
   "source": [
    "np.diag(b)"
   ]
  },
  {
   "cell_type": "code",
   "execution_count": 57,
   "metadata": {},
   "outputs": [
    {
     "data": {
      "text/plain": [
       "array([3, 5, 4])"
      ]
     },
     "execution_count": 57,
     "metadata": {},
     "output_type": "execute_result"
    }
   ],
   "source": [
    "np.diag(np.fliplr(b))"
   ]
  },
  {
   "cell_type": "code",
   "execution_count": 60,
   "metadata": {},
   "outputs": [
    {
     "name": "stdout",
     "output_type": "stream",
     "text": [
      "[ 0  2  4 -5 -3  7  8 -9 -5  1]\n"
     ]
    }
   ],
   "source": [
    "arr = np.array([0, 2, 4, 5, 3, 7, 8, 9, 5, 1])\n",
    "\n",
    "\n",
    "for x in arr:\n",
    "    if arr[x] % 2 == 1:\n",
    "        arr[x] *= -1\n",
    "    else:\n",
    "        continue\n",
    "\n",
    "print(arr)\n"
   ]
  },
  {
   "cell_type": "code",
   "execution_count": 59,
   "metadata": {},
   "outputs": [
    {
     "name": "stdout",
     "output_type": "stream",
     "text": [
      "[ 0  2  4  5  3 -7  8  9  5 -1]\n"
     ]
    }
   ],
   "source": [
    "arr0 = np.array([0,2,4,5,3,7,8,9,5,1])\n",
    "odd = np.where(arr % 2 == 1)\n",
    "arr[odd] *= -1\n",
    "\n",
    "print(arr)"
   ]
  },
  {
   "cell_type": "code",
   "execution_count": 4,
   "metadata": {},
   "outputs": [
    {
     "ename": "NameError",
     "evalue": "name 'np' is not defined",
     "output_type": "error",
     "traceback": [
      "\u001b[0;31m---------------------------------------------------------------------------\u001b[0m",
      "\u001b[0;31mNameError\u001b[0m                                 Traceback (most recent call last)",
      "\u001b[1;32m/Users/vickyogo/Desktop/Developer Academy/twix.ipynb Cell 7\u001b[0m line \u001b[0;36m3\n\u001b[1;32m      <a href='vscode-notebook-cell:/Users/vickyogo/Desktop/Developer%20Academy/twix.ipynb#W6sZmlsZQ%3D%3D?line=0'>1</a>\u001b[0m \u001b[39m##triangle task\u001b[39;00m\n\u001b[0;32m----> <a href='vscode-notebook-cell:/Users/vickyogo/Desktop/Developer%20Academy/twix.ipynb#W6sZmlsZQ%3D%3D?line=2'>3</a>\u001b[0m A \u001b[39m=\u001b[39m np\u001b[39m.\u001b[39marray([\u001b[39m0\u001b[39m, \u001b[39m2\u001b[39m])\n\u001b[1;32m      <a href='vscode-notebook-cell:/Users/vickyogo/Desktop/Developer%20Academy/twix.ipynb#W6sZmlsZQ%3D%3D?line=3'>4</a>\u001b[0m B \u001b[39m=\u001b[39m np\u001b[39m.\u001b[39marray([\u001b[39m0\u001b[39m, \u001b[39m3\u001b[39m])\n\u001b[1;32m      <a href='vscode-notebook-cell:/Users/vickyogo/Desktop/Developer%20Academy/twix.ipynb#W6sZmlsZQ%3D%3D?line=4'>5</a>\u001b[0m C \u001b[39m=\u001b[39m np\u001b[39m.\u001b[39marray([\u001b[39m1.5\u001b[39m, \u001b[39m0\u001b[39m])\n",
      "\u001b[0;31mNameError\u001b[0m: name 'np' is not defined"
     ]
    }
   ],
   "source": [
    "##triangle task\n",
    "\n",
    "A = np.array([0, 0])\n",
    "B = np.array([0, 3])\n",
    "C = np.array([1.5, 0])\n",
    "\n",
    "from numpy import linalg as la\n",
    "AB = la.norm(A-B)\n",
    "\n",
    "\n",
    "number = np.array([[1.99, 2.23, 3.35], [5.30, 7.75, 5.65], [1.89, 3.01, 4.56]])\n",
    "# round off to 1 decimal place\n",
    "\n",
    "number = np.around(number, decimals = 1)\n",
    "\n",
    "##add column header\n",
    "column_header = []"
   ]
  }
 ],
 "metadata": {
  "kernelspec": {
   "display_name": "Python 3",
   "language": "python",
   "name": "python3"
  },
  "language_info": {
   "codemirror_mode": {
    "name": "ipython",
    "version": 3
   },
   "file_extension": ".py",
   "mimetype": "text/x-python",
   "name": "python",
   "nbconvert_exporter": "python",
   "pygments_lexer": "ipython3",
   "version": "3.11.1"
  },
  "orig_nbformat": 4
 },
 "nbformat": 4,
 "nbformat_minor": 2
}
